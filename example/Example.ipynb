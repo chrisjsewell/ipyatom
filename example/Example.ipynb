{
 "cells": [
  {
   "cell_type": "code",
   "execution_count": 29,
   "metadata": {},
   "outputs": [],
   "source": [
    "from ase.build import bulk\n",
    "from jsonextended import edict\n",
    "from ipyatom import repeat_cell\n",
    "from ipyatom import render_ivol\n",
    "from ipyatom import bonds\n",
    "from ipyatom import plot_mpl"
   ]
  },
  {
   "cell_type": "code",
   "execution_count": 2,
   "metadata": {},
   "outputs": [
    {
     "data": {
      "text/plain": [
       "Atoms(symbols='Fe2', pbc=True, cell=[[-2.87, 2.87, 2.87], [1.435, -1.435, 1.435], [1.435, 1.435, -1.435]])"
      ]
     },
     "execution_count": 2,
     "metadata": {},
     "output_type": "execute_result"
    }
   ],
   "source": [
    "atoms = bulk(\"Fe\").repeat((2,1,1))\n",
    "atoms"
   ]
  },
  {
   "cell_type": "code",
   "execution_count": 23,
   "metadata": {},
   "outputs": [
    {
     "name": "stdout",
     "output_type": "stream",
     "text": [
      "elements:\n",
      "  - bonds:    []\n",
      "    cell_vectors:\n",
      "      a: [-2.87, 2.87, 2.87]\n",
      "      b: [1.435, -1.435, 1.435]\n",
      "      c: [1.435, 1.435, -1.435]\n",
      "    centre:   [0.0, 1.435, 1.4349999999999998]\n",
      "    color_bbox: black\n",
      "    name:\n",
      "    sites:\n",
      "      - anum:        26\n",
      "        ccoord:      [0.0, 0.0, 0.0]\n",
      "        cell:        [0, 0, 0]\n",
      "        color_fill:  green\n",
      "        color_outline: None\n",
      "        label:       S\n",
      "        radius:      1.32\n",
      "        transparency: 1\n",
      "      - anum:        26\n",
      "        ccoord:      [-1.435, 1.435, 1.435]\n",
      "        cell:        [0, 0, 0]\n",
      "        color_fill:  #e06633\n",
      "        color_outline: None\n",
      "        label:       Fe\n",
      "        radius:      1.32\n",
      "        transparency: 1\n",
      "    transforms: []\n",
      "    type:     repeat_cell\n",
      "transforms: []\n"
     ]
    }
   ],
   "source": [
    "vstruct = repeat_cell.atoms_to_dict(atoms)\n",
    "vstruct[\"elements\"][0][\"sites\"][0][\"label\"] = \"S\"\n",
    "vstruct = repeat_cell.change_site_variable(\n",
    "    vstruct, {\"color_fill\": \"green\"}, {\"label\": \"S\"})\n",
    "edict.pprint(vstruct)"
   ]
  },
  {
   "cell_type": "code",
   "execution_count": 24,
   "metadata": {},
   "outputs": [
    {
     "data": {
      "application/vnd.jupyter.widget-view+json": {
       "model_id": "a77d75e781674c43b38e7bc2629124af",
       "version_major": 2,
       "version_minor": 0
      },
      "text/plain": [
       "A Jupyter Widget"
      ]
     },
     "metadata": {},
     "output_type": "display_data"
    }
   ],
   "source": [
    "new_struct, fig, controls = render_ivol.create_ivol(vstruct)\n",
    "render_ivol.ipy_style(fig)"
   ]
  },
  {
   "cell_type": "code",
   "execution_count": 25,
   "metadata": {},
   "outputs": [
    {
     "name": "stdout",
     "output_type": "stream",
     "text": [
      "elements:\n",
      "  - bonds:\n",
      "      - cmap_name:      jet\n",
      "        color_by_dist:  False\n",
      "        coord_label:    S\n",
      "        drange:         (0, 10)\n",
      "        include_periodic: True\n",
      "        label:          Fe\n",
      "        max_dist:       2.5\n",
      "        radius:         0.1\n",
      "    cell_vectors:\n",
      "      a: [-2.87, 2.87, 2.87]\n",
      "      b: [1.435, -1.435, 1.435]\n",
      "      c: [1.435, 1.435, -1.435]\n",
      "    centre:   [0.0, 1.435, 1.4349999999999998]\n",
      "    color_bbox: black\n",
      "    name:\n",
      "    sites:\n",
      "      - anum:        26\n",
      "        ccoord:      [0.0, 0.0, 0.0]\n",
      "        cell:        [0, 0, 0]\n",
      "        color_fill:  green\n",
      "        color_outline: None\n",
      "        label:       S\n",
      "        radius:      1.32\n",
      "        transparency: 1\n",
      "      - anum:        26\n",
      "        ccoord:      [-1.435, 1.435, 1.435]\n",
      "        cell:        [0, 0, 0]\n",
      "        color_fill:  #e06633\n",
      "        color_outline: None\n",
      "        label:       Fe\n",
      "        radius:      1.32\n",
      "        transparency: 1\n",
      "    transforms: []\n",
      "    type:     repeat_cell\n",
      "transforms: []\n"
     ]
    }
   ],
   "source": [
    "vstruct2 = bonds.add_bonds(vstruct, \"Fe\", \"S\", 2.5)\n",
    "edict.pprint(vstruct2)"
   ]
  },
  {
   "cell_type": "code",
   "execution_count": 26,
   "metadata": {},
   "outputs": [
    {
     "data": {
      "application/vnd.jupyter.widget-view+json": {
       "model_id": "bb9e20c24afc41889c87b80daeccdf25",
       "version_major": 2,
       "version_minor": 0
      },
      "text/plain": [
       "A Jupyter Widget"
      ]
     },
     "metadata": {},
     "output_type": "display_data"
    }
   ],
   "source": [
    "new_struct, fig, controls = render_ivol.create_ivol(vstruct2)\n",
    "render_ivol.ipy_style(fig)"
   ]
  },
  {
   "cell_type": "code",
   "execution_count": 27,
   "metadata": {},
   "outputs": [
    {
     "name": "stdout",
     "output_type": "stream",
     "text": [
      "elements:\n",
      "  - bonds:\n",
      "      - cmap_name:      jet\n",
      "        color_by_dist:  True\n",
      "        coord_label:    S\n",
      "        drange:         (2, 4)\n",
      "        include_periodic: True\n",
      "        label:          Fe\n",
      "        max_dist:       2.5\n",
      "        radius:         0.1\n",
      "    cell_vectors:\n",
      "      a: [-2.87, 2.87, 2.87]\n",
      "      b: [1.435, -1.435, 1.435]\n",
      "      c: [1.435, 1.435, -1.435]\n",
      "    centre:   [0.0, 1.435, 1.4349999999999998]\n",
      "    color_bbox: black\n",
      "    name:\n",
      "    sites:\n",
      "      - anum:        26\n",
      "        ccoord:      [0.0, 0.0, 0.0]\n",
      "        cell:        [0, 0, 0]\n",
      "        color_fill:  green\n",
      "        color_outline: None\n",
      "        label:       S\n",
      "        radius:      1.32\n",
      "        transparency: 1\n",
      "      - anum:        26\n",
      "        ccoord:      [-1.435, 1.435, 1.435]\n",
      "        cell:        [0, 0, 0]\n",
      "        color_fill:  #e06633\n",
      "        color_outline: None\n",
      "        label:       Fe\n",
      "        radius:      1.32\n",
      "        transparency: 1\n",
      "    transforms: []\n",
      "    type:     repeat_cell\n",
      "transforms: []\n"
     ]
    }
   ],
   "source": [
    "vstruct3 = bonds.add_bonds(vstruct, \"Fe\", \"S\", 2.5, color_by_dist=True, drange=(2,4))\n",
    "edict.pprint(vstruct3)"
   ]
  },
  {
   "cell_type": "code",
   "execution_count": 28,
   "metadata": {},
   "outputs": [
    {
     "data": {
      "application/vnd.jupyter.widget-view+json": {
       "model_id": "2d3d3b3576ff4d8bb46a1119a6e56861",
       "version_major": 2,
       "version_minor": 0
      },
      "text/plain": [
       "A Jupyter Widget"
      ]
     },
     "metadata": {},
     "output_type": "display_data"
    }
   ],
   "source": [
    "new_struct, fig, controls = render_ivol.create_ivol(vstruct3)\n",
    "render_ivol.ipy_style(fig)"
   ]
  },
  {
   "cell_type": "code",
   "execution_count": 34,
   "metadata": {},
   "outputs": [
    {
     "data": {
      "image/png": "[encoded data removed]",
      "text/plain": [
       "<matplotlib.figure.Figure at 0x117d41be0>"
      ]
     },
     "metadata": {},
     "output_type": "display_data"
    }
   ],
   "source": [
    "%matplotlib inline\n",
    "import matplotlib.pyplot as plt\n",
    "fig, ax = plt.subplots(1)\n",
    "plot_mpl.create_colorbar(ax, (2, 4), \"jet\", \"Bond Length\")\n",
    "fig.set_size_inches((5,1))"
   ]
  },
  {
   "cell_type": "code",
   "execution_count": 35,
   "metadata": {},
   "outputs": [
    {
     "data": {
      "text/plain": [
       "(<matplotlib.axes._subplots.AxesSubplot at 0x118a279e8>,\n",
       " {'Fe': <matplotlib.lines.Line2D at 0x118c465c0>,\n",
       "  'S': <matplotlib.lines.Line2D at 0x118c37a90>})"
      ]
     },
     "execution_count": 35,
     "metadata": {},
     "output_type": "execute_result"
    },
    {
     "data": {
      "image/png": "[encoded data removed]",
      "text/plain": [
       "<matplotlib.figure.Figure at 0x118aea0b8>"
      ]
     },
     "metadata": {},
     "output_type": "display_data"
    }
   ],
   "source": [
    "plot_mpl.plot_atoms_top(vstruct)"
   ]
  },
  {
   "cell_type": "code",
   "execution_count": null,
   "metadata": {},
   "outputs": [],
   "source": []
  }
 ],
 "metadata": {
  "hide_input": false,
  "kernelspec": {
   "display_name": "Python 3",
   "language": "python",
   "name": "python3"
  },
  "language_info": {
   "codemirror_mode": {
    "name": "ipython",
    "version": 3
   },
   "file_extension": ".py",
   "mimetype": "text/x-python",
   "name": "python",
   "nbconvert_exporter": "python",
   "pygments_lexer": "ipython3",
   "version": "3.6.2"
  },
  "toc": {
   "colors": {
    "hover_highlight": "#DAA520",
    "navigate_num": "#000000",
    "navigate_text": "#333333",
    "running_highlight": "#FF0000",
    "selected_highlight": "#FFD700",
    "sidebar_border": "#EEEEEE",
    "wrapper_background": "#FFFFFF"
   },
   "moveMenuLeft": true,
   "nav_menu": {
    "height": "12px",
    "width": "252px"
   },
   "navigate_menu": true,
   "number_sections": true,
   "sideBar": true,
   "threshold": 4,
   "toc_cell": false,
   "toc_section_display": "block",
   "toc_window_display": false,
   "widenNotebook": false
  }
 },
 "nbformat": 4,
 "nbformat_minor": 2
}
